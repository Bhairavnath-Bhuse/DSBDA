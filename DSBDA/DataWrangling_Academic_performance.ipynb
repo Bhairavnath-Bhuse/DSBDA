{
 "cells": [
  {
   "cell_type": "markdown",
   "id": "0c586946-ab24-4e60-b852-008d5ecae396",
   "metadata": {},
   "source": [
    "## Data Wrangling II\n",
    "#### Academic Performance Dataset\n",
    "\n",
    "1. **Scan for Missing Values and Inconsistencies:**\n",
    "   - Identify missing values and inconsistencies in all variables.\n",
    "   - Utilize suitable techniques to handle missing values, such as imputation or deletion, depending on the context.\n",
    "   \n",
    "2. **Scan for Outliers in Numeric Variables:**\n",
    "   - Examine numeric variables for outliers.\n",
    "   - Employ appropriate techniques like z-score, IQR, or visualization to detect and handle outliers.\n",
    "\n",
    "3. **Apply Data Transformations:**\n",
    "   - Perform data transformations on at least one variable for the following purposes:\n",
    "     - Changing scale for better understanding.\n",
    "     - Converting a non-linear relation into a linear one.\n",
    "     - Decreasing skewness and achieving a normal distribution.\n",
    "   - Document the rationale behind the transformation and the chosen approach."
   ]
  },
  {
   "cell_type": "markdown",
   "id": "35977f74-367c-4db1-9488-04a39a9c8a68",
   "metadata": {},
   "source": [
    "### Generate Sample Data"
   ]
  },
  {
   "cell_type": "code",
   "execution_count": 1,
   "id": "faa8f9b3-e2b3-43b0-a2e0-9b128db62666",
   "metadata": {},
   "outputs": [],
   "source": [
    "import numpy as np\n",
    "import pandas as pd\n",
    "import seaborn as sns\n",
    "import matplotlib.pyplot as plt"
   ]
  },
  {
   "cell_type": "code",
   "execution_count": 2,
   "id": "5938b6c7-97d3-4199-ba75-1d52cbc097cc",
   "metadata": {},
   "outputs": [],
   "source": [
    "np.random.seed(0)\n",
    "data=({\n",
    "    'Student_ID':range(1,101),\n",
    "    'Age': np.random.randint(18,25,100),\n",
    "    'Gender':np.random.choice(['Male','Female'],100),\n",
    "    'Math':np.random.normal(70,15,100),\n",
    "    'Science':np.random.normal(65,10,100),\n",
    "    'English':np.random.normal(75,12,100)\n",
    "})"
   ]
  },
  {
   "cell_type": "code",
   "execution_count": 3,
   "id": "28baf6fe-d0a0-4fb8-840d-d0430d1477a2",
   "metadata": {},
   "outputs": [],
   "source": [
    "data['Math'][10]=np.nan\n",
    "data['Science'][25]=np.nan\n",
    "data['English'][50]=200"
   ]
  },
  {
   "cell_type": "code",
   "execution_count": 4,
   "id": "c04c3042-1cde-44fc-81d0-34ec911787bc",
   "metadata": {},
   "outputs": [],
   "source": [
    "df=pd.DataFrame(data)"
   ]
  },
  {
   "cell_type": "code",
   "execution_count": 5,
   "id": "94b07a51-d0fc-471a-a451-203d9894f708",
   "metadata": {},
   "outputs": [
    {
     "data": {
      "text/html": [
       "<div>\n",
       "<style scoped>\n",
       "    .dataframe tbody tr th:only-of-type {\n",
       "        vertical-align: middle;\n",
       "    }\n",
       "\n",
       "    .dataframe tbody tr th {\n",
       "        vertical-align: top;\n",
       "    }\n",
       "\n",
       "    .dataframe thead th {\n",
       "        text-align: right;\n",
       "    }\n",
       "</style>\n",
       "<table border=\"1\" class=\"dataframe\">\n",
       "  <thead>\n",
       "    <tr style=\"text-align: right;\">\n",
       "      <th></th>\n",
       "      <th>Student_ID</th>\n",
       "      <th>Age</th>\n",
       "      <th>Gender</th>\n",
       "      <th>Math</th>\n",
       "      <th>Science</th>\n",
       "      <th>English</th>\n",
       "    </tr>\n",
       "  </thead>\n",
       "  <tbody>\n",
       "    <tr>\n",
       "      <th>0</th>\n",
       "      <td>1</td>\n",
       "      <td>22</td>\n",
       "      <td>Male</td>\n",
       "      <td>61.922978</td>\n",
       "      <td>53.140808</td>\n",
       "      <td>73.130342</td>\n",
       "    </tr>\n",
       "    <tr>\n",
       "      <th>1</th>\n",
       "      <td>2</td>\n",
       "      <td>23</td>\n",
       "      <td>Female</td>\n",
       "      <td>98.626932</td>\n",
       "      <td>74.293994</td>\n",
       "      <td>64.685857</td>\n",
       "    </tr>\n",
       "    <tr>\n",
       "      <th>2</th>\n",
       "      <td>3</td>\n",
       "      <td>18</td>\n",
       "      <td>Female</td>\n",
       "      <td>62.863360</td>\n",
       "      <td>70.469520</td>\n",
       "      <td>105.348149</td>\n",
       "    </tr>\n",
       "    <tr>\n",
       "      <th>3</th>\n",
       "      <td>4</td>\n",
       "      <td>21</td>\n",
       "      <td>Female</td>\n",
       "      <td>91.610967</td>\n",
       "      <td>56.304077</td>\n",
       "      <td>64.866181</td>\n",
       "    </tr>\n",
       "    <tr>\n",
       "      <th>4</th>\n",
       "      <td>5</td>\n",
       "      <td>21</td>\n",
       "      <td>Female</td>\n",
       "      <td>52.763865</td>\n",
       "      <td>77.234279</td>\n",
       "      <td>85.687945</td>\n",
       "    </tr>\n",
       "    <tr>\n",
       "      <th>...</th>\n",
       "      <td>...</td>\n",
       "      <td>...</td>\n",
       "      <td>...</td>\n",
       "      <td>...</td>\n",
       "      <td>...</td>\n",
       "      <td>...</td>\n",
       "    </tr>\n",
       "    <tr>\n",
       "      <th>95</th>\n",
       "      <td>96</td>\n",
       "      <td>22</td>\n",
       "      <td>Male</td>\n",
       "      <td>89.706890</td>\n",
       "      <td>60.670082</td>\n",
       "      <td>92.931969</td>\n",
       "    </tr>\n",
       "    <tr>\n",
       "      <th>96</th>\n",
       "      <td>97</td>\n",
       "      <td>18</td>\n",
       "      <td>Male</td>\n",
       "      <td>60.974371</td>\n",
       "      <td>56.541011</td>\n",
       "      <td>65.093632</td>\n",
       "    </tr>\n",
       "    <tr>\n",
       "      <th>97</th>\n",
       "      <td>98</td>\n",
       "      <td>24</td>\n",
       "      <td>Male</td>\n",
       "      <td>61.792543</td>\n",
       "      <td>66.637327</td>\n",
       "      <td>66.597098</td>\n",
       "    </tr>\n",
       "    <tr>\n",
       "      <th>98</th>\n",
       "      <td>99</td>\n",
       "      <td>22</td>\n",
       "      <td>Female</td>\n",
       "      <td>79.144762</td>\n",
       "      <td>67.983987</td>\n",
       "      <td>79.478296</td>\n",
       "    </tr>\n",
       "    <tr>\n",
       "      <th>99</th>\n",
       "      <td>100</td>\n",
       "      <td>21</td>\n",
       "      <td>Male</td>\n",
       "      <td>81.383982</td>\n",
       "      <td>67.376696</td>\n",
       "      <td>75.752223</td>\n",
       "    </tr>\n",
       "  </tbody>\n",
       "</table>\n",
       "<p>100 rows × 6 columns</p>\n",
       "</div>"
      ],
      "text/plain": [
       "    Student_ID  Age  Gender       Math    Science     English\n",
       "0            1   22    Male  61.922978  53.140808   73.130342\n",
       "1            2   23  Female  98.626932  74.293994   64.685857\n",
       "2            3   18  Female  62.863360  70.469520  105.348149\n",
       "3            4   21  Female  91.610967  56.304077   64.866181\n",
       "4            5   21  Female  52.763865  77.234279   85.687945\n",
       "..         ...  ...     ...        ...        ...         ...\n",
       "95          96   22    Male  89.706890  60.670082   92.931969\n",
       "96          97   18    Male  60.974371  56.541011   65.093632\n",
       "97          98   24    Male  61.792543  66.637327   66.597098\n",
       "98          99   22  Female  79.144762  67.983987   79.478296\n",
       "99         100   21    Male  81.383982  67.376696   75.752223\n",
       "\n",
       "[100 rows x 6 columns]"
      ]
     },
     "execution_count": 5,
     "metadata": {},
     "output_type": "execute_result"
    }
   ],
   "source": [
    "df"
   ]
  },
  {
   "cell_type": "code",
   "execution_count": 6,
   "id": "08880758-9c35-4305-9515-c9cba7055d3d",
   "metadata": {},
   "outputs": [
    {
     "data": {
      "text/plain": [
       "(100, 6)"
      ]
     },
     "execution_count": 6,
     "metadata": {},
     "output_type": "execute_result"
    }
   ],
   "source": [
    "df.shape"
   ]
  },
  {
   "cell_type": "markdown",
   "id": "95538f59-ff12-4847-a919-2138cc04d28f",
   "metadata": {},
   "source": [
    "### Handle missing values and Inconsistencies"
   ]
  },
  {
   "cell_type": "code",
   "execution_count": 7,
   "id": "555f5486-7994-4831-9a1d-8afb9b1a58b1",
   "metadata": {},
   "outputs": [],
   "source": [
    "df['Math'].fillna(df['Math'].mean(),inplace=True)\n",
    "df['Math'].fillna(df['Math'].mean(),inplace=True)\n",
    "df['Math'].fillna(df['Math'].mean(),inplace=True)\n",
    "\n",
    "df.loc[df['English'] > 100, 'English'] = np.nan\n",
    "df['English'].fillna(df['English'].mean(), inplace=True)"
   ]
  },
  {
   "cell_type": "markdown",
   "id": "1cc27a44-ddfa-411a-b7c7-d2afbe49aa20",
   "metadata": {},
   "source": [
    "#### Detect and Handle Outliers, Identify Outliers using Boxplot"
   ]
  },
  {
   "cell_type": "code",
   "execution_count": 8,
   "id": "48f67d55-6034-4367-9e31-db86a364da56",
   "metadata": {},
   "outputs": [
    {
     "data": {
      "text/plain": [
       "Text(0.5, 1.0, 'Boxplot of Academic Scores')"
      ]
     },
     "execution_count": 8,
     "metadata": {},
     "output_type": "execute_result"
    },
    {
     "data": {
      "image/png": "[encoded data removed]",
      "text/plain": [
       "<Figure size 640x480 with 1 Axes>"
      ]
     },
     "metadata": {},
     "output_type": "display_data"
    }
   ],
   "source": [
    "sns.boxplot(df[['Math','Science','English']])\n",
    "plt.title('Boxplot of Academic Scores')"
   ]
  },
  {
   "cell_type": "markdown",
   "id": "3f0fd928-debe-479d-9ada-7eb5e7a61551",
   "metadata": {},
   "source": [
    "#### Address outliers using winsorization"
   ]
  },
  {
   "cell_type": "code",
   "execution_count": 9,
   "id": "03bceadd-6f3a-411a-9452-16f98d837fcb",
   "metadata": {},
   "outputs": [],
   "source": [
    "from scipy.stats.mstats import winsorize\n",
    "df['Math'] = winsorize(df['Math'], limits=[0.05, 0.05])\n",
    "df['Science'] = winsorize(df['Science'], limits=[0.05, 0.05])\n",
    "df['English'] = winsorize(df['English'], limits=[0.05, 0.05])"
   ]
  },
  {
   "cell_type": "code",
   "execution_count": 10,
   "id": "e56be6a7-4e42-443d-959e-1b0e43000eee",
   "metadata": {},
   "outputs": [
    {
     "data": {
      "text/plain": [
       "<Axes: >"
      ]
     },
     "execution_count": 10,
     "metadata": {},
     "output_type": "execute_result"
    },
    {
     "data": {
      "image/png": "[encoded data removed]",
      "text/plain": [
       "<Figure size 640x480 with 1 Axes>"
      ]
     },
     "metadata": {},
     "output_type": "display_data"
    }
   ],
   "source": [
    "sns.boxplot(df[['Math','Science','English']])"
   ]
  },
  {
   "cell_type": "markdown",
   "id": "fea48eee-8c95-4e1b-8546-49df0b5f2473",
   "metadata": {},
   "source": [
    "#### Apply data transformations"
   ]
  },
  {
   "cell_type": "code",
   "execution_count": 11,
   "id": "99ac68bb-152c-42a2-84d2-543621652b72",
   "metadata": {},
   "outputs": [
    {
     "data": {
      "text/plain": [
       "<Axes: xlabel='Age', ylabel='Count'>"
      ]
     },
     "execution_count": 11,
     "metadata": {},
     "output_type": "execute_result"
    },
    {
     "data": {
      "image/png": "[encoded data removed]",
      "text/plain": [
       "<Figure size 640x480 with 1 Axes>"
      ]
     },
     "metadata": {},
     "output_type": "display_data"
    }
   ],
   "source": [
    "sns.histplot(df['Age'],kde=True)"
   ]
  },
  {
   "cell_type": "code",
   "execution_count": 12,
   "id": "b1cb2a71-c342-460e-80c1-865b2f8e1213",
   "metadata": {},
   "outputs": [],
   "source": [
    "df['Age_transformed'] = np.log(df['Age'])"
   ]
  },
  {
   "cell_type": "code",
   "execution_count": 13,
   "id": "b3d1deb5-54c9-4f0a-bf10-5c86d1d7b514",
   "metadata": {},
   "outputs": [
    {
     "data": {
      "text/plain": [
       "<Axes: xlabel='Age_transformed', ylabel='Count'>"
      ]
     },
     "execution_count": 13,
     "metadata": {},
     "output_type": "execute_result"
    },
    {
     "data": {
      "image/png": "[encoded data removed]",
      "text/plain": [
       "<Figure size 640x480 with 1 Axes>"
      ]
     },
     "metadata": {},
     "output_type": "display_data"
    }
   ],
   "source": [
    "sns.histplot(df['Age_transformed'],kde=True)"
   ]
  },
  {
   "cell_type": "markdown",
   "id": "5ebe8594-cd1b-4743-a3d7-8fd37352ee69",
   "metadata": {},
   "source": [
    "### Reasoning for transformation:\n",
    "- The logarithmic transformation is used to decrease the right skewness of the Age variable and bring it closer to a normal distribution. This helps in better understanding the age distribution of students in the dataset."
   ]
  }
 ],
 "metadata": {
  "kernelspec": {
   "display_name": "Python 3 (ipykernel)",
   "language": "python",
   "name": "python3"
  },
  "language_info": {
   "codemirror_mode": {
    "name": "ipython",
    "version": 3
   },
   "file_extension": ".py",
   "mimetype": "text/x-python",
   "name": "python",
   "nbconvert_exporter": "python",
   "pygments_lexer": "ipython3",
   "version": "3.11.5"
  }
 },
 "nbformat": 4,
 "nbformat_minor": 5
}
